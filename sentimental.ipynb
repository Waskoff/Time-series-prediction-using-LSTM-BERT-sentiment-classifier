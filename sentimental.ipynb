{
 "cells": [
  {
   "cell_type": "code",
   "execution_count": 2,
   "metadata": {},
   "outputs": [],
   "source": [
    "import pandas as pd\n",
    "import torch\n",
    "import numpy as np\n",
    "import matplotlib.pyplot as plt\n",
    "from transformers import AutoTokenizer, AutoModelForSequenceClassification\n",
    "from transformers import BertTokenizerFast\n",
    "from scipy.special import softmax\n",
    "# !pip install googletrans==4.0.0-rc1\n",
    "from googletrans import Translator"
   ]
  },
  {
   "cell_type": "code",
   "execution_count": 3,
   "metadata": {},
   "outputs": [],
   "source": [
    "vk_data = pd.read_excel(\"VK_full.xlsx\")\n",
    "rbc_data = pd.read_excel(\"rbc_full_crypto_articles_to_2024-05-24.xlsx\")"
   ]
  },
  {
   "cell_type": "markdown",
   "metadata": {},
   "source": [
    "# Предобработаем данные"
   ]
  },
  {
   "cell_type": "markdown",
   "metadata": {},
   "source": [
    "### Для начала уберем NaN"
   ]
  },
  {
   "cell_type": "code",
   "execution_count": 4,
   "metadata": {},
   "outputs": [
    {
     "data": {
      "text/plain": [
       "Уникальный идентификатор записи       0\n",
       "Дата и время публикации               0\n",
       "Текст записи                       1886\n",
       "Количество комментариев               0\n",
       "Информация о лайках                   0\n",
       "Количество просмотров                 0\n",
       "dtype: int64"
      ]
     },
     "execution_count": 4,
     "metadata": {},
     "output_type": "execute_result"
    }
   ],
   "source": [
    "vk_data.isnull().sum()\n"
   ]
  },
  {
   "cell_type": "code",
   "execution_count": 5,
   "metadata": {},
   "outputs": [],
   "source": [
    "\n",
    "vk_data = vk_data.dropna(subset=['Текст записи'])\n"
   ]
  },
  {
   "cell_type": "code",
   "execution_count": 6,
   "metadata": {},
   "outputs": [
    {
     "data": {
      "text/plain": [
       "Уникальный идентификатор записи    0\n",
       "Дата и время публикации            0\n",
       "Текст записи                       0\n",
       "Количество комментариев            0\n",
       "Информация о лайках                0\n",
       "Количество просмотров              0\n",
       "dtype: int64"
      ]
     },
     "execution_count": 6,
     "metadata": {},
     "output_type": "execute_result"
    }
   ],
   "source": [
    "vk_data.isnull().sum()"
   ]
  },
  {
   "cell_type": "code",
   "execution_count": 7,
   "metadata": {},
   "outputs": [
    {
     "data": {
      "text/plain": [
       "Unnamed: 0        0\n",
       "0                 2\n",
       "1                 0\n",
       "2                 0\n",
       "3                 0\n",
       "4                 0\n",
       "5             12375\n",
       "6                 0\n",
       "7                 0\n",
       "8                 0\n",
       "9                 0\n",
       "10                0\n",
       "11             2359\n",
       "12            12375\n",
       "13                0\n",
       "14            12375\n",
       "15                0\n",
       "16                0\n",
       "17                0\n",
       "dtype: int64"
      ]
     },
     "execution_count": 7,
     "metadata": {},
     "output_type": "execute_result"
    }
   ],
   "source": [
    "rbc_data.isnull().sum()"
   ]
  },
  {
   "cell_type": "code",
   "execution_count": 8,
   "metadata": {},
   "outputs": [],
   "source": [
    "rbc_data = rbc_data.iloc [: , 2:]\n",
    "rbc_data = rbc_data[1:]\n",
    "rbc_data.reset_index(drop= True , inplace= True)\n",
    "rbc_data = rbc_data.drop(index = 4795)\n",
    "rbc_data.reset_index(drop= True , inplace= True)"
   ]
  },
  {
   "cell_type": "code",
   "execution_count": 9,
   "metadata": {},
   "outputs": [],
   "source": [
    "rbc_data = rbc_data.rename(columns={1: 'id', 2: 'project', 3: 'project_nick', 4: 'type', 5: 'category', 6: 'title',7 : 'body', 8: 'publish_date', 9: 'publish_date_t', 10: 'fronturl', 11: 'picture', 12: 'badge', 13: 'pay_option', 14: 'data', 15: '_score', 16: 'overview', 17: 'text'})"
   ]
  },
  {
   "cell_type": "code",
   "execution_count": 10,
   "metadata": {},
   "outputs": [],
   "source": [
    "rbc_data['publish_date'] = pd.to_datetime(rbc_data['publish_date']).dt.date"
   ]
  },
  {
   "cell_type": "code",
   "execution_count": 11,
   "metadata": {},
   "outputs": [],
   "source": [
    "vk_data['Дата и время публикации'] = pd.to_datetime(vk_data['Дата и время публикации']).dt.date"
   ]
  },
  {
   "cell_type": "code",
   "execution_count": 12,
   "metadata": {},
   "outputs": [
    {
     "data": {
      "text/plain": [
       "id                    0\n",
       "project               0\n",
       "project_nick          0\n",
       "type                  0\n",
       "category          12375\n",
       "title                 0\n",
       "body                  0\n",
       "publish_date          0\n",
       "publish_date_t        0\n",
       "fronturl              0\n",
       "picture            2359\n",
       "badge             12375\n",
       "pay_option            0\n",
       "data              12375\n",
       "_score                0\n",
       "overview              0\n",
       "text                  0\n",
       "dtype: int64"
      ]
     },
     "execution_count": 12,
     "metadata": {},
     "output_type": "execute_result"
    }
   ],
   "source": [
    "rbc_data.isnull().sum()"
   ]
  },
  {
   "cell_type": "markdown",
   "metadata": {},
   "source": [
    "# проверка видеокарты"
   ]
  },
  {
   "cell_type": "code",
   "execution_count": 13,
   "metadata": {},
   "outputs": [
    {
     "name": "stdout",
     "output_type": "stream",
     "text": [
      "There are 1 GPU(s) available.\n",
      "We will use the GPU: NVIDIA GeForce RTX 3070\n"
     ]
    }
   ],
   "source": [
    "# If there's a GPU available...\n",
    "if torch.cuda.is_available():    \n",
    "\n",
    "    # Tell PyTorch to use the GPU.    \n",
    "    device = torch.device(\"cuda\")\n",
    "\n",
    "    print('There are %d GPU(s) available.' % torch.cuda.device_count())\n",
    "\n",
    "    print('We will use the GPU:', torch.cuda.get_device_name(0))\n",
    "\n",
    "# If not...\n",
    "else:\n",
    "    print('No GPU available, using the CPU instead.')\n",
    "    device = torch.device(\"cpu\")"
   ]
  },
  {
   "cell_type": "markdown",
   "metadata": {},
   "source": [
    "##### мне вывело\n",
    "##### \"There are 1 GPU(s) available.\n",
    "##### We will use the GPU: NVIDIA GeForce RTX 3070\"\n",
    "##### Если у вас не подключена видеокарта, то скачайте torch по полной ссылке на сайте https://pytorch.org/"
   ]
  },
  {
   "cell_type": "markdown",
   "metadata": {},
   "source": [
    "# Модель BERT и классификация"
   ]
  },
  {
   "cell_type": "markdown",
   "metadata": {},
   "source": [
    "Модель 1"
   ]
  },
  {
   "cell_type": "code",
   "execution_count": 14,
   "metadata": {},
   "outputs": [],
   "source": [
    "# from transformers import AutoTokenizer, AutoModelForSequenceClassification\n",
    "\n",
    "# tokenizer = AutoTokenizer.from_pretrained(\"r1char9/rubert-base-cased-russian-sentiment\")\n",
    "# model = AutoModelForSequenceClassification.from_pretrained(\"r1char9/rubert-base-cased-russian-sentiment\")"
   ]
  },
  {
   "cell_type": "markdown",
   "metadata": {},
   "source": [
    "Модель 2"
   ]
  },
  {
   "cell_type": "markdown",
   "metadata": {},
   "source": [
    "0: POSITIVE\n",
    "1: NEGATIVE"
   ]
  },
  {
   "cell_type": "code",
   "execution_count": 18,
   "metadata": {},
   "outputs": [],
   "source": [
    "tokenizer = BertTokenizerFast.from_pretrained('blanchefort/rubert-base-cased-sentiment-mokoron')\n",
    "model = AutoModelForSequenceClassification.from_pretrained('blanchefort/rubert-base-cased-sentiment-mokoron', return_dict=True)\n"
   ]
  },
  {
   "cell_type": "code",
   "execution_count": 19,
   "metadata": {},
   "outputs": [],
   "source": [
    "def predict(text):\n",
    "    inputs = tokenizer(text, max_length=512, padding=True, truncation=True, return_tensors='pt')\n",
    "    outputs = model(**inputs)\n",
    "    predicted = torch.nn.functional.softmax(outputs.logits, dim=1)\n",
    "    #predicted = torch.argmax(predicted, dim=1).numpy()\n",
    "    return predicted"
   ]
  },
  {
   "cell_type": "code",
   "execution_count": 100,
   "metadata": {},
   "outputs": [],
   "source": [
    "rbk_postive = []\n",
    "rbk_negative = []\n",
    "for i in range(len(rbc_data['title'])):\n",
    "    tensorr = predict(rbc_data['title'][i])\n",
    "    rbk_postive.append(tensorr[0][0].item())\n",
    "    rbk_negative.append(tensorr[0][1].item())\n"
   ]
  },
  {
   "cell_type": "code",
   "execution_count": 28,
   "metadata": {},
   "outputs": [],
   "source": [
    "vk_data.reset_index(drop= True , inplace= True)"
   ]
  },
  {
   "cell_type": "code",
   "execution_count": 32,
   "metadata": {},
   "outputs": [],
   "source": [
    "vk_postive = []\n",
    "vk_negative = []\n",
    "for i in range(len(vk_data['Текст записи'])):\n",
    "    tensorr = predict(vk_data['Текст записи'][i])\n",
    "    vk_postive.append(tensorr[0][0].item())\n",
    "    vk_negative.append(tensorr[0][1].item())"
   ]
  },
  {
   "cell_type": "code",
   "execution_count": 33,
   "metadata": {},
   "outputs": [
    {
     "data": {
      "text/plain": [
       "12512"
      ]
     },
     "execution_count": 33,
     "metadata": {},
     "output_type": "execute_result"
    }
   ],
   "source": [
    "len(vk_data)"
   ]
  },
  {
   "cell_type": "code",
   "execution_count": 35,
   "metadata": {},
   "outputs": [
    {
     "data": {
      "text/plain": [
       "12512"
      ]
     },
     "execution_count": 35,
     "metadata": {},
     "output_type": "execute_result"
    }
   ],
   "source": [
    "len(vk_negative)"
   ]
  },
  {
   "cell_type": "code",
   "execution_count": 37,
   "metadata": {},
   "outputs": [],
   "source": [
    "# vk_data['vk_posotive_rubert'] = vk_postive\n",
    "# vk_data['vk_negative_rubert'] = vk_negative"
   ]
  },
  {
   "cell_type": "code",
   "execution_count": 39,
   "metadata": {},
   "outputs": [],
   "source": [
    "columns_to_save_VK = ['Дата и время публикации', 'vk_posotive_rubert', 'vk_negative_rubert']\n",
    "vk_data.to_csv('vk_RuBeart_text_Sentiment.csv', columns=columns_to_save_VK, index=False)"
   ]
  },
  {
   "cell_type": "code",
   "execution_count": null,
   "metadata": {},
   "outputs": [],
   "source": [
    "vk_data = vk_data.rename(columns={'Текст записи': 'Post text'})"
   ]
  },
  {
   "cell_type": "code",
   "execution_count": null,
   "metadata": {},
   "outputs": [],
   "source": [
    "vk_data"
   ]
  },
  {
   "cell_type": "code",
   "execution_count": 108,
   "metadata": {},
   "outputs": [],
   "source": [
    "# rbc_data['rbk_positive'] = rbk_postive\n",
    "# rbc_data['rbk_negative'] = rbk_negative"
   ]
  },
  {
   "cell_type": "code",
   "execution_count": 112,
   "metadata": {},
   "outputs": [],
   "source": [
    "columns_to_save = ['publish_date', 'rbk_positive', 'rbk_negative']"
   ]
  },
  {
   "cell_type": "code",
   "execution_count": 113,
   "metadata": {},
   "outputs": [],
   "source": [
    "rbc_data.to_csv('rbk_RuBeart_Titles_Sentiment.csv', columns=columns_to_save, index=False)"
   ]
  },
  {
   "cell_type": "markdown",
   "metadata": {},
   "source": [
    "# Этот берт оказался не очень (ухудшил RMSE, попробую обученного крипто Берта ElKulako/cryptobert, но он работает для английских текстов (нужно перевести))"
   ]
  },
  {
   "cell_type": "markdown",
   "metadata": {},
   "source": [
    "Скачиваю криптоберта"
   ]
  },
  {
   "cell_type": "code",
   "execution_count": 55,
   "metadata": {},
   "outputs": [],
   "source": [
    "# Load model directly \n",
    "from transformers import AutoTokenizer, AutoModelForSequenceClassification\n",
    "\n",
    "tokenizer = AutoTokenizer.from_pretrained(\"ElKulako/cryptobert\")\n",
    "model = AutoModelForSequenceClassification.from_pretrained(\"ElKulako/cryptobert\")"
   ]
  },
  {
   "cell_type": "markdown",
   "metadata": {},
   "source": [
    "Перевод текста"
   ]
  },
  {
   "cell_type": "markdown",
   "metadata": {},
   "source": [
    "текст я перевожу в отдельном файле translator.py здесь я просто сохраняю и получаю csv файл\n"
   ]
  },
  {
   "cell_type": "code",
   "execution_count": 42,
   "metadata": {},
   "outputs": [],
   "source": [
    "columns_to_save_for_VK_translator = ['Post text']"
   ]
  },
  {
   "cell_type": "code",
   "execution_count": 47,
   "metadata": {},
   "outputs": [
    {
     "data": {
      "text/plain": [
       "'За всем происходящем в мире криптовалют следим в нашем тг \\nhttps://t.me/+zx0CCbfwek41OGNi ↩'"
      ]
     },
     "execution_count": 47,
     "metadata": {},
     "output_type": "execute_result"
    }
   ],
   "source": [
    "vk_data['Post text'].iloc[0]"
   ]
  },
  {
   "cell_type": "code",
   "execution_count": 48,
   "metadata": {},
   "outputs": [],
   "source": [
    "vk_data.to_csv('vk_text.csv', columns=columns_to_save_for_VK_translator, index=True)"
   ]
  },
  {
   "cell_type": "code",
   "execution_count": 49,
   "metadata": {},
   "outputs": [
    {
     "data": {
      "text/plain": [
       "12512"
      ]
     },
     "execution_count": 49,
     "metadata": {},
     "output_type": "execute_result"
    }
   ],
   "source": [
    "len(vk_data)"
   ]
  },
  {
   "cell_type": "code",
   "execution_count": 135,
   "metadata": {},
   "outputs": [],
   "source": [
    "# Импортируем CSV файл в DataFrame\n",
    "trans_rbc_titles = pd.read_csv(\"translated_rbc.csv\")"
   ]
  },
  {
   "cell_type": "code",
   "execution_count": 51,
   "metadata": {},
   "outputs": [],
   "source": [
    "trans_vk_text = pd.read_csv(\"translated_vk_text.csv\")"
   ]
  },
  {
   "cell_type": "markdown",
   "metadata": {},
   "source": [
    "Итак вот наш переведенный текст"
   ]
  },
  {
   "cell_type": "code",
   "execution_count": 139,
   "metadata": {},
   "outputs": [
    {
     "data": {
      "text/plain": [
       "0        The most famous cloud mining service confirmed...\n",
       "1        No time to explain: everything about cryptocur...\n",
       "2        You might have missed it: exchanges will add S...\n",
       "3        A major exchange has returned to work after a ...\n",
       "4        There will be no public ICO round. All details...\n",
       "                               ...                        \n",
       "12370    The US approved the launch of exchange-traded ...\n",
       "12371    The main trends of the cryptocurrency market i...\n",
       "12372    Experts called the Solana cryptocurrency suita...\n",
       "12373    What will happen to the Ethereum rate after ET...\n",
       "12374    Cryptocurrency volatility has decreased in ant...\n",
       "Name: title, Length: 12375, dtype: object"
      ]
     },
     "execution_count": 139,
     "metadata": {},
     "output_type": "execute_result"
    }
   ],
   "source": [
    "trans_rbc_titles['title']\n"
   ]
  },
  {
   "cell_type": "code",
   "execution_count": 69,
   "metadata": {},
   "outputs": [
    {
     "name": "stdout",
     "output_type": "stream",
     "text": [
      "13271\n"
     ]
    }
   ],
   "source": [
    "ct = 0\n",
    "for i in range(len(trans_vk_text['Post text'])):\n",
    "    if len(str(trans_vk_text['Post text'][i])) > ct:\n",
    "        ct = len(str(trans_vk_text['Post text'][i]))\n",
    "        \n",
    "print(ct)        "
   ]
  },
  {
   "cell_type": "code",
   "execution_count": 76,
   "metadata": {},
   "outputs": [
    {
     "data": {
      "text/plain": [
       "'[club143763740|Топ 9 правил криптотрейдинга или как превратить 1000$ в 46000$ меньше чем за год]\\n\\nХочу сразу сказать, что это не моя история успеха, а одного успешного человека и трейдера, чье имя по понятным причинам я назвать не могу. Всем, кто когда-либо занимался трейдингом криптовалют, хоть раз да повезло, однако, чтобы достичь весомого результат большинству приходится пробовать разные стратегии, вступать в сообщества криптотрейдеров, отслеживать текущие тенденции и т.д. Некоторые результаты можно отнести к категории «повезло», в то время как общий успех достигается тяжелым трудом, в основе которого лежат фундаментальные принципы, хорошие привычки и опыт. \\n \\n💰💰💰9 правил прибыльного криптотрейдинга \\nВ то время как рынки криптовалют чрезвычайно волатильны, и все инвесторы подвержены колебаниям цен, включая меня и вас и всех остальных успешных трейдеров, имея хорошие привычки в торговле можно смягчить потери и максимизировать прибыль. \\n \\nОбратите внимание, что ни один пункт из перечисленных ниже не является инвестиционным советом. Помните, вы всегда инвестируйте на свой страх и риск! \\n📎1. Инвестируйте столько, сколько можете потерять \\nВо время последнего обвала, который произошел в январе 2018 года большинство инвесторов-любителей прогорело. Комменты о полном отчаянии, понесенных убытках и больших денежных потерях сменялись фотками разбитых мониторов и расколотых ноутбуков.\\n\\nПомните, что деньгами считаются только те деньги, которые лежат у вас в кармане!\\n\\nХочу отметить, что все эти 9 правил размещены в конкретном порядке, основанном на важности их соблюдения, поэтому вы с полной уверенностью можете предположить, что это самое важное правило из всех. Это правило номер один – правило для всех правил, я бы сказал! \\n \\nКак только ваши деньги превратятся в криптовалюту, считайте, что вы их потеряли навсегда. Помните, что деньгами считаются только те деньги, которые лежат у вас в кармане. Нет абсолютно никакой гарантии, что вы сможете вернуть свои кровно-заработанные, которые когда-то инвестировали в криптовалюту. Потери ваших средств не всегда происходят от обвала курса на рынке; экстраординарные факторы, такие как хакерские атаки, ошибки ПО и правительственное регулирование, могут поспособствовать тому, что вы больше никогда не увидите своих вложенных денег.\\n\\nИспользование заемных средств - путь к банкротству!\\n\\nЕсли вы собираетесь инвестировать деньги, которые вы не можете потерять, вам нужно сделать шаг назад и переоценить свою текущую финансовую ситуацию, потому что, то что вы собираетесь сделать, - это шаг отчаяния. Здесь остановлюсь поподробнее под термином «деньги, которые нельзя потерять» я имею ввиду: использование средств с кредитных карт, получение ипотечных кредитов и использование их на инвестирование, подачу заявок на получение займов или продажу всего своего имущества и оставление себя и своей семьи с голой задницей путешествовать по миру (как бы не гламурно, это не звучало). \\n \\n📎2. Всегда обращайте внимание на поведение Bitcoin\\nБольшинство альткоинов (имею ввиду любую криптовалюту, кроме биткоина) привязаны намного больше к биткоину, чем азиатские валюты были привязаны к доллару США во время азиатского финансового кризиса. Если цена биткоина резко пампанет, то цены на альты могут снижаться, поскольку люди пытаются распродать свои альты, чтобы успеть уцепить свой куш с пампа BTC; и наоборот, если цена на биткоин резко падает, цены на альты могут также снизиться, поскольку люди пытаются распродать свои альты, чтобы вернуться обратно в фиаты. Лучшее время для роста альткоинов появляется тогда, когда Bitcoin показывает обычный сдержанный рост или снижение в цене, а также когда цена стоит на одном месте долгое время. \\n \\n📎3. Никогда не кладите все яйца в одну корзину. Диверсификации дорогу! \\nВ то время как возможность заработать больше увеличивается пропорционально сумме денег, которую вы вкладываете в определенную монету, также увеличивается и вероятность потерять большее количество средств.\\n\\nЛучший способ безопасно сорвать свой куш - это диверсификация и извлечение прибыли из роста цен нескольких монет \\nДавайте посмотрим на криптовалютный рынок более глобально. Если вы уверены, что этот рынок находится еще только в стадии зарождения, то, скорее всего, вся рыночная капитализация криптовалют будет со временем непременно расти. Каковы шансы, что эта растущая рыночная капитализация, будет целиком зависеть от одной монеты вместо того, чтобы ее рост был приурочен к множеству монет? Лучший способ безопасно сорвать свой куш на постоянно растущей капитализации криптовалют - это диверсификация и извлечение прибыли из роста цен нескольких монет. \\n \\nЗаметьте такой забавный факт. В период с января 2016 года по январь 2018 года Verge увеличился в 13 000 раз. За этот же период биткоин увеличился в цене всего лишь в 34 раза. Хоть вы и получили впечатляющую выгоду от инвестиций в биткоин, диверсификация средств и инвестирование в другие монеты могло бы принести вам потенциально большую прибыль. \\n \\n📎4. Не будьте жадными!\\nНе было ни одного человека, который бы не потерял свои деньги получив большую прибыль. По мере того как монета начинает расти, жадность внутри нас растет вместе с ней. \\n \\nЕсли монета увеличивается в цене на 30%, почему бы не рассмотреть возможность заработать на ней? Просто необходимо вывести часть прибыли если монета достигла первой цели (например, 30%). Даже если вы ставите дальнейшие цели на достижение 40% или 50%, вы должны хотя бы вытащить часть прибыли на этом растущем тренде, потому что у вас должно остаться хоть что-то если монета прекратит свой рост или вообще обвалится. Если вы слишком долго ждете или пытаетесь выйти на более высокую точку, вы рискуете потерять ту прибыль, которую вы уже заработали на этом росте, или даже превратить эту прибыль в убыток. Заведите себе привычку выводить прибыль и искать точку для повторного входа, если вы хотите продолжать получать потенциальную прибыль. \\n \\n📎5. Нельзя инвестировать слепо\\nВ этом мире, определенно есть люди, которые продадут слепому человеку очки, лишь бы заработать хоть немного денег. Те же самые люди могут встретиться нам и на криптовалютных рынках. Эти мошенники используют любую возможность, чтобы поживиться на плохо информированных инвесторах. Они скажут вам, что покупать или будут утверждать и клясться, что определенный токен скоро взлетит до луны. Таким способом они увеличивают цены, чтобы выгодно распродаться. \\n \\nИз-за весьма спекулятивного характера криптовалютных рынков сегодня, хороший инвестор всегда будет самостоятельно проводить свои собственные исследования, чтобы взять на себя полную ответственность за возможные инвестиционные результаты. Информация, полученная от самого лучшего из инвесторов, - это, в лучшем случае, может быть отличной информацией, но никогда не 100% инструкция к действию, поэтому вы все равно можете прогореть. \\n \\n📎6. Синдром упущенной выгоды. Не поддавайтесь!\\nА вдруг я упущу свою удачу?! \\nЭто тот этап, на котором люди чаще всего теряют деньги. Давайте посмотрим как удалось в декабре увеличить цену Биткоин от $ 10 000 до $ 20 000. А рецепт был такой: \\n \\nРецепт: как увеличить цену Биткоин от 10 000$ до 20 000$ за один месяц \\n \\n📍одна чайная ложка манипуляций \\n📍две столовые ложки шумихи в прессе \\n📍100 грамм сообщений с Чикагской товарной биржи \\n📍100 грамм новостей с Чикагской опционной биржи \\n📍большая горсть «синдрома упущенной выгоды» \\n💰Все ингредиенты хорошенько перемешать и цены летят до луны! \\n \\nС тех пор прошло уже почти два месяца, а биткоин упал до уровня 6 000$ за 1 BTC и в настоящее время торгуется на уровне около 8 000$ - 9 000$. Легко говорить оглядываясь назад: «Если бы я подождал всего один месяц, то я мог бы купить BTC за 6000 долларов вместо того, чтобы ждать, пока биткоин снова пробьет отметку в 20 000 долларов, чтобы я мог наконец сорвать джек-пот». Но на самом деле на 100% рабочая комбинация, чтобы всегда закупаться на самом высоком уровне: \\n \\n📍быть жадным \\n📍инвестировать вслепую \\n📍болеть «синдромом упущенной выгоды» \\n\\nДаже в сумасшедшем и непредсказуемом мире криптовалют, существует правило: «Что сегодня быстро растет, завтра также быстро падает, это всего лишь вопрос времени».\\n\\nЕсли просто подождать, то можно сохранить себе жизнь и даже руки и ноги) \\nСпекулятивные пампы почти всегда сопровождаются обвалами. Я уверен, что большинство из вас сейчас согласится со мной, что если не пытаться запрыгнуть в несущийся поезд на полной скорости, (наверняка вы сейчас вспомнили фильмы про Джеймса Бонда), а просто подождать его на следующей остановке, то вероятно можно остаться в живых и даже сохранить себе руки и ноги.\\n\\n📎7. Разделяйте свои инвестиции на категории и всегда смотрите на долгосрочную перспективу \\nЕсли вы все-таки начнете проводить свои исследование, то в процессе вы, в конце концов, поймете, что сталкиваетесь с несколькими категориями монет. Вы обязательно заметите, что некоторые из них имеют во главе гениальные команды разработчиков, отличное видение, потрясающую рекламу и опыт практической работы для успешного будущего. Если найдете такую категорию - прекрасно! Поместите их в хранилище на среднесрок или долгосрок и дайте им настояться как хорошему виски.\\n\\nХорошая криптовалюта как виски, ей надо настояться \\nКогда цена падает, даже не думайте поддаваться всеобщей панике и рассматривать продажу таких токенов, потому что активы в вашем среднесрочном или долгосрочном портфеле должны оставаться нетронутыми определенное количество времени. \\n \\n📎8. Всегда учитесь на своих ошибках \\nНикогда не принимайте полное поражение. Всегда трезво оценивайте ситуацию и пытайтесь выяснить, почему это все произошло с вами. Примите этот опыт в качестве ценного вклада в ваш следующий шаг, который определенно будет лучше, потому что вы уже знаете намного больше, чем вы знали до этого. Даже самые успешные трейдеры когда-то были просто любителями. И это нормально, что все мы теряем деньги на протяжении всего опыта трейдинга.\\n\\nВ свой первый месяц торговли все мы обычно теряем не меньше половины своих первоначальных инвестиций. Я много потерял, продавая себе в убыток из-за страха остаться ни с чем. Никто не идеален, и нет таких людей кто бы выигрывал каждую сделку. Не позволяйте потерям выбить почву у вас из-под ног, потому что в действительности каждая потеря делает вас еще лучшим трейдером, если вы, конечно же, решитесь учиться на своих ошибках. \\n \\n📎9. Если вы ведете активный трейдинг, всегда ставьте стоп-лоссы \\nДля любых монет, которые не входят в ваш среднесрочный или долгосрочный портфель, всегда устанавливайте стоп-лоссы. Это действительно важно по нескольким причинам - наиболее очевидным является уменьшение ваших убытков. Но что более важно, вы вынуждаете себя принимать решение о точке приемлемой потери, и поскольку у вас теперь есть ориентир, вы можете оценить свою эффективность, чтобы проводить или корректировать будущие сделки. Иногда во время рыночного обвала, альткоины могут резко упасть в цене, а стоп-лоссы могут привести вас к прибыльности, автоматически продавая альткоины за фиату, которую вы затем можете использовать для повторного входа по более низким ценам. \\n \\n📎📎10. Бонусное правило: всегда проверяйте биржевой символ, торгуемого токена \\nБиржевые символы не универсальны и в редких случаях могут варьироваться в зависимости от биржи криптовалют. Тем не менее, такие случаи имеют место быть и могут негативно сказаться на вашем портфеле.\\n\\nНапример, Bitcoin Cash торгуется на некоторых биржах как BCH, в то время как на других биржах он торгуется под символом BCC. BCC также является биржевым символом BitConnect, который недавно был выпущен под схемой пирамиды Понци. Если вы купили BCC думая, что покупаете Bitcoin Cash, вы определенно потеряли много денег. \\n \\nЯркий пример биржи с непонятными индексами и монетами: YoBit. \\n \\nВам не нужно идти по этому пути в одиночку\\nВсегда нужны попутчики! \\n\\nХотя эти правила отнюдь не единственные уроки, которые вам нужны, они определенно являются отличной отправной точкой. Я понимаю, что давать советы намного легче, чем следовать им. Например, наблюдать за падением стоимости вашего портфеля и иметь железную силу воли и не нажать кнопку «продать». Одно из лучших решений - это присоединиться к сообществу единомышленников-криптовалютных инвесторов. Образованные и умные криптотрейдеры, а также члены сообщества будут присутствовать там, чтобы поддержать вас и ваши усилия в криптоторговле, а также будут поддерживать вас в трудные моменты. \\n \\nКриптовалютный рынок развивается со скоростью света по сравнению с другими рынками. Новые монеты выходят на рынок ежедневно (в 2016 году на рынке было около 550 различных монет, а сегодня их около 1500), и по каждой из них выходят новости каждый день. Я не сомневаюсь в вашей способности читать и анализировать новости, но этот уровень информационной бомбардировки всегда будет легче эффективно освоить в группе. Подписываясь на наш Telegram-канал и делая репосты наших статей вы увидите понятный анализ всемирных новостей и соответствующие статьи о монетах, в которые вы инвестировали, и монеты, о которых вы никогда не слышали и в которые просто необходимо инвестировать. Наше сообщество, безусловно, расширит ваши знания намного быстрее, чем все это будет происходить самостоятельно. \\n#bitcoin #ethereum #ripple #crypto #news #биткоин #криптовалюта #новости #инвестиции'"
      ]
     },
     "execution_count": 76,
     "metadata": {},
     "output_type": "execute_result"
    }
   ],
   "source": [
    "(trans_vk_text['Post text'][11817]) "
   ]
  },
  {
   "cell_type": "code",
   "execution_count": 77,
   "metadata": {},
   "outputs": [],
   "source": [
    "for i in range(len(trans_vk_text['Post text'])):\n",
    "    if len(str(trans_vk_text['Post text'][i])) > 1000:\n",
    "        trans_vk_text = trans_vk_text.drop(i) \n",
    "   "
   ]
  },
  {
   "cell_type": "code",
   "execution_count": 78,
   "metadata": {},
   "outputs": [
    {
     "data": {
      "text/plain": [
       "9231"
      ]
     },
     "execution_count": 78,
     "metadata": {},
     "output_type": "execute_result"
    }
   ],
   "source": [
    "len(trans_vk_text['Post text'])"
   ]
  },
  {
   "cell_type": "code",
   "execution_count": 79,
   "metadata": {},
   "outputs": [],
   "source": [
    "def predict(text):\n",
    "    inputs = tokenizer(text, max_length=1001, padding=True, truncation=True, return_tensors='pt')\n",
    "    outputs = model(**inputs)\n",
    "    predicted = torch.nn.functional.softmax(outputs.logits, dim=1)\n",
    "    #predicted = torch.argmax(predicted, dim=1).numpy()\n",
    "    return predicted"
   ]
  },
  {
   "cell_type": "code",
   "execution_count": 85,
   "metadata": {},
   "outputs": [],
   "source": [
    "trans_vk_text.reset_index(drop= True , inplace= True)"
   ]
  },
  {
   "cell_type": "code",
   "execution_count": 86,
   "metadata": {},
   "outputs": [
    {
     "ename": "ValueError",
     "evalue": "text input must be of type `str` (single example), `List[str]` (batch or single pretokenized example) or `List[List[str]]` (batch of pretokenized examples).",
     "output_type": "error",
     "traceback": [
      "\u001b[1;31m---------------------------------------------------------------------------\u001b[0m",
      "\u001b[1;31mValueError\u001b[0m                                Traceback (most recent call last)",
      "Cell \u001b[1;32mIn[86], line 5\u001b[0m\n\u001b[0;32m      3\u001b[0m vk_neutral_cryptobert \u001b[38;5;241m=\u001b[39m []\n\u001b[0;32m      4\u001b[0m \u001b[38;5;28;01mfor\u001b[39;00m i \u001b[38;5;129;01min\u001b[39;00m \u001b[38;5;28mrange\u001b[39m(\u001b[38;5;28mlen\u001b[39m(trans_vk_text)):\n\u001b[1;32m----> 5\u001b[0m     tensorr \u001b[38;5;241m=\u001b[39m \u001b[43mpredict\u001b[49m\u001b[43m(\u001b[49m\u001b[43mtrans_vk_text\u001b[49m\u001b[43m[\u001b[49m\u001b[38;5;124;43m'\u001b[39;49m\u001b[38;5;124;43mPost text\u001b[39;49m\u001b[38;5;124;43m'\u001b[39;49m\u001b[43m]\u001b[49m\u001b[43m[\u001b[49m\u001b[43mi\u001b[49m\u001b[43m]\u001b[49m\u001b[43m)\u001b[49m\n\u001b[0;32m      6\u001b[0m     vk_postive_cryptobert\u001b[38;5;241m.\u001b[39mappend(tensorr[\u001b[38;5;241m0\u001b[39m][\u001b[38;5;241m2\u001b[39m]\u001b[38;5;241m.\u001b[39mitem())\n\u001b[0;32m      7\u001b[0m     vk_negative_cryptobert\u001b[38;5;241m.\u001b[39mappend(tensorr[\u001b[38;5;241m0\u001b[39m][\u001b[38;5;241m0\u001b[39m]\u001b[38;5;241m.\u001b[39mitem())\n",
      "Cell \u001b[1;32mIn[79], line 2\u001b[0m, in \u001b[0;36mpredict\u001b[1;34m(text)\u001b[0m\n\u001b[0;32m      1\u001b[0m \u001b[38;5;28;01mdef\u001b[39;00m \u001b[38;5;21mpredict\u001b[39m(text):\n\u001b[1;32m----> 2\u001b[0m     inputs \u001b[38;5;241m=\u001b[39m \u001b[43mtokenizer\u001b[49m\u001b[43m(\u001b[49m\u001b[43mtext\u001b[49m\u001b[43m,\u001b[49m\u001b[43m \u001b[49m\u001b[43mmax_length\u001b[49m\u001b[38;5;241;43m=\u001b[39;49m\u001b[38;5;241;43m1001\u001b[39;49m\u001b[43m,\u001b[49m\u001b[43m \u001b[49m\u001b[43mpadding\u001b[49m\u001b[38;5;241;43m=\u001b[39;49m\u001b[38;5;28;43;01mTrue\u001b[39;49;00m\u001b[43m,\u001b[49m\u001b[43m \u001b[49m\u001b[43mtruncation\u001b[49m\u001b[38;5;241;43m=\u001b[39;49m\u001b[38;5;28;43;01mTrue\u001b[39;49;00m\u001b[43m,\u001b[49m\u001b[43m \u001b[49m\u001b[43mreturn_tensors\u001b[49m\u001b[38;5;241;43m=\u001b[39;49m\u001b[38;5;124;43m'\u001b[39;49m\u001b[38;5;124;43mpt\u001b[39;49m\u001b[38;5;124;43m'\u001b[39;49m\u001b[43m)\u001b[49m\n\u001b[0;32m      3\u001b[0m     outputs \u001b[38;5;241m=\u001b[39m model(\u001b[38;5;241m*\u001b[39m\u001b[38;5;241m*\u001b[39minputs)\n\u001b[0;32m      4\u001b[0m     predicted \u001b[38;5;241m=\u001b[39m torch\u001b[38;5;241m.\u001b[39mnn\u001b[38;5;241m.\u001b[39mfunctional\u001b[38;5;241m.\u001b[39msoftmax(outputs\u001b[38;5;241m.\u001b[39mlogits, dim\u001b[38;5;241m=\u001b[39m\u001b[38;5;241m1\u001b[39m)\n",
      "File \u001b[1;32mc:\\Users\\User\\AppData\\Local\\Programs\\Python\\Python312\\Lib\\site-packages\\transformers\\tokenization_utils_base.py:2883\u001b[0m, in \u001b[0;36mPreTrainedTokenizerBase.__call__\u001b[1;34m(self, text, text_pair, text_target, text_pair_target, add_special_tokens, padding, truncation, max_length, stride, is_split_into_words, pad_to_multiple_of, return_tensors, return_token_type_ids, return_attention_mask, return_overflowing_tokens, return_special_tokens_mask, return_offsets_mapping, return_length, verbose, **kwargs)\u001b[0m\n\u001b[0;32m   2881\u001b[0m     \u001b[38;5;28;01mif\u001b[39;00m \u001b[38;5;129;01mnot\u001b[39;00m \u001b[38;5;28mself\u001b[39m\u001b[38;5;241m.\u001b[39m_in_target_context_manager:\n\u001b[0;32m   2882\u001b[0m         \u001b[38;5;28mself\u001b[39m\u001b[38;5;241m.\u001b[39m_switch_to_input_mode()\n\u001b[1;32m-> 2883\u001b[0m     encodings \u001b[38;5;241m=\u001b[39m \u001b[38;5;28;43mself\u001b[39;49m\u001b[38;5;241;43m.\u001b[39;49m\u001b[43m_call_one\u001b[49m\u001b[43m(\u001b[49m\u001b[43mtext\u001b[49m\u001b[38;5;241;43m=\u001b[39;49m\u001b[43mtext\u001b[49m\u001b[43m,\u001b[49m\u001b[43m \u001b[49m\u001b[43mtext_pair\u001b[49m\u001b[38;5;241;43m=\u001b[39;49m\u001b[43mtext_pair\u001b[49m\u001b[43m,\u001b[49m\u001b[43m \u001b[49m\u001b[38;5;241;43m*\u001b[39;49m\u001b[38;5;241;43m*\u001b[39;49m\u001b[43mall_kwargs\u001b[49m\u001b[43m)\u001b[49m\n\u001b[0;32m   2884\u001b[0m \u001b[38;5;28;01mif\u001b[39;00m text_target \u001b[38;5;129;01mis\u001b[39;00m \u001b[38;5;129;01mnot\u001b[39;00m \u001b[38;5;28;01mNone\u001b[39;00m:\n\u001b[0;32m   2885\u001b[0m     \u001b[38;5;28mself\u001b[39m\u001b[38;5;241m.\u001b[39m_switch_to_target_mode()\n",
      "File \u001b[1;32mc:\\Users\\User\\AppData\\Local\\Programs\\Python\\Python312\\Lib\\site-packages\\transformers\\tokenization_utils_base.py:2941\u001b[0m, in \u001b[0;36mPreTrainedTokenizerBase._call_one\u001b[1;34m(self, text, text_pair, add_special_tokens, padding, truncation, max_length, stride, is_split_into_words, pad_to_multiple_of, return_tensors, return_token_type_ids, return_attention_mask, return_overflowing_tokens, return_special_tokens_mask, return_offsets_mapping, return_length, verbose, **kwargs)\u001b[0m\n\u001b[0;32m   2938\u001b[0m         \u001b[38;5;28;01mreturn\u001b[39;00m \u001b[38;5;28;01mFalse\u001b[39;00m\n\u001b[0;32m   2940\u001b[0m \u001b[38;5;28;01mif\u001b[39;00m \u001b[38;5;129;01mnot\u001b[39;00m _is_valid_text_input(text):\n\u001b[1;32m-> 2941\u001b[0m     \u001b[38;5;28;01mraise\u001b[39;00m \u001b[38;5;167;01mValueError\u001b[39;00m(\n\u001b[0;32m   2942\u001b[0m         \u001b[38;5;124m\"\u001b[39m\u001b[38;5;124mtext input must be of type `str` (single example), `List[str]` (batch or single pretokenized example) \u001b[39m\u001b[38;5;124m\"\u001b[39m\n\u001b[0;32m   2943\u001b[0m         \u001b[38;5;124m\"\u001b[39m\u001b[38;5;124mor `List[List[str]]` (batch of pretokenized examples).\u001b[39m\u001b[38;5;124m\"\u001b[39m\n\u001b[0;32m   2944\u001b[0m     )\n\u001b[0;32m   2946\u001b[0m \u001b[38;5;28;01mif\u001b[39;00m text_pair \u001b[38;5;129;01mis\u001b[39;00m \u001b[38;5;129;01mnot\u001b[39;00m \u001b[38;5;28;01mNone\u001b[39;00m \u001b[38;5;129;01mand\u001b[39;00m \u001b[38;5;129;01mnot\u001b[39;00m _is_valid_text_input(text_pair):\n\u001b[0;32m   2947\u001b[0m     \u001b[38;5;28;01mraise\u001b[39;00m \u001b[38;5;167;01mValueError\u001b[39;00m(\n\u001b[0;32m   2948\u001b[0m         \u001b[38;5;124m\"\u001b[39m\u001b[38;5;124mtext input must be of type `str` (single example), `List[str]` (batch or single pretokenized example) \u001b[39m\u001b[38;5;124m\"\u001b[39m\n\u001b[0;32m   2949\u001b[0m         \u001b[38;5;124m\"\u001b[39m\u001b[38;5;124mor `List[List[str]]` (batch of pretokenized examples).\u001b[39m\u001b[38;5;124m\"\u001b[39m\n\u001b[0;32m   2950\u001b[0m     )\n",
      "\u001b[1;31mValueError\u001b[0m: text input must be of type `str` (single example), `List[str]` (batch or single pretokenized example) or `List[List[str]]` (batch of pretokenized examples)."
     ]
    }
   ],
   "source": [
    "vk_postive_cryptobert = []\n",
    "vk_negative_cryptobert = []\n",
    "vk_neutral_cryptobert = []\n",
    "for i in range(len(trans_vk_text)):\n",
    "    tensorr = predict(trans_vk_text['Post text'][i])\n",
    "    vk_postive_cryptobert.append(tensorr[0][2].item())\n",
    "    vk_negative_cryptobert.append(tensorr[0][0].item())\n",
    "    vk_neutral_cryptobert.append(tensorr[0][1].item())"
   ]
  },
  {
   "cell_type": "code",
   "execution_count": 93,
   "metadata": {},
   "outputs": [
    {
     "data": {
      "text/plain": [
       "4754"
      ]
     },
     "execution_count": 93,
     "metadata": {},
     "output_type": "execute_result"
    }
   ],
   "source": [
    "len(vk_neutral_cryptobert)"
   ]
  },
  {
   "cell_type": "code",
   "execution_count": 148,
   "metadata": {},
   "outputs": [],
   "source": [
    "rbk_postive_cryptobert = []\n",
    "rbk_negative_cryptobert = []\n",
    "rbk_neutral_cryptobert = []\n",
    "\n",
    "for i in range(len(trans_rbc_titles)):\n",
    "    tensorr = predict(trans_rbc_titles['title'][i])\n",
    "    rbk_postive_cryptobert.append(tensorr[0][2].item())\n",
    "    rbk_negative_cryptobert.append(tensorr[0][0].item())\n",
    "    rbk_neutral_cryptobert.append(tensorr[0][1].item())"
   ]
  },
  {
   "cell_type": "markdown",
   "metadata": {},
   "source": [
    "\"Bearish\" : 0, \"Neutral\": 1, \"Bullish\": 2"
   ]
  },
  {
   "cell_type": "code",
   "execution_count": 149,
   "metadata": {},
   "outputs": [
    {
     "data": {
      "text/plain": [
       "tensor([[0.0006, 0.6389, 0.3605]], grad_fn=<SoftmaxBackward0>)"
      ]
     },
     "execution_count": 149,
     "metadata": {},
     "output_type": "execute_result"
    }
   ],
   "source": [
    "tensorr"
   ]
  },
  {
   "cell_type": "code",
   "execution_count": 151,
   "metadata": {},
   "outputs": [],
   "source": [
    "rbc_data['rbk_postive_cryptobert'] = rbk_postive_cryptobert\n",
    "rbc_data['rbk_negative_cryptobert'] = rbk_negative_cryptobert\n",
    "rbc_data['rbk_neutral_cryptobert'] = rbk_neutral_cryptobert "
   ]
  },
  {
   "cell_type": "code",
   "execution_count": 96,
   "metadata": {},
   "outputs": [
    {
     "data": {
      "text/html": [
       "<div>\n",
       "<style scoped>\n",
       "    .dataframe tbody tr th:only-of-type {\n",
       "        vertical-align: middle;\n",
       "    }\n",
       "\n",
       "    .dataframe tbody tr th {\n",
       "        vertical-align: top;\n",
       "    }\n",
       "\n",
       "    .dataframe thead th {\n",
       "        text-align: right;\n",
       "    }\n",
       "</style>\n",
       "<table border=\"1\" class=\"dataframe\">\n",
       "  <thead>\n",
       "    <tr style=\"text-align: right;\">\n",
       "      <th></th>\n",
       "      <th>Уникальный идентификатор записи</th>\n",
       "      <th>Дата и время публикации</th>\n",
       "      <th>Post text</th>\n",
       "      <th>Количество комментариев</th>\n",
       "      <th>Информация о лайках</th>\n",
       "      <th>Количество просмотров</th>\n",
       "      <th>vk_posotive_rubert</th>\n",
       "      <th>vk_negative_rubert</th>\n",
       "    </tr>\n",
       "  </thead>\n",
       "  <tbody>\n",
       "    <tr>\n",
       "      <th>0</th>\n",
       "      <td>125701</td>\n",
       "      <td>2022-10-19</td>\n",
       "      <td>За всем происходящем в мире криптовалют следим...</td>\n",
       "      <td>1</td>\n",
       "      <td>518</td>\n",
       "      <td>118742</td>\n",
       "      <td>0.527412</td>\n",
       "      <td>0.472588</td>\n",
       "    </tr>\n",
       "    <tr>\n",
       "      <th>1</th>\n",
       "      <td>156939</td>\n",
       "      <td>2024-05-24</td>\n",
       "      <td>Центробанк РФ заявил, что активность россиян н...</td>\n",
       "      <td>4</td>\n",
       "      <td>12</td>\n",
       "      <td>677</td>\n",
       "      <td>0.479314</td>\n",
       "      <td>0.520686</td>\n",
       "    </tr>\n",
       "    <tr>\n",
       "      <th>2</th>\n",
       "      <td>156907</td>\n",
       "      <td>2024-05-23</td>\n",
       "      <td>По мнению аналитика Bloomberg, SEC одобрит ETF...</td>\n",
       "      <td>9</td>\n",
       "      <td>14</td>\n",
       "      <td>3835</td>\n",
       "      <td>0.000120</td>\n",
       "      <td>0.999880</td>\n",
       "    </tr>\n",
       "    <tr>\n",
       "      <th>3</th>\n",
       "      <td>156897</td>\n",
       "      <td>2024-05-23</td>\n",
       "      <td>AI сектор у всех на слуху, что купить? \\n\\n• S...</td>\n",
       "      <td>3</td>\n",
       "      <td>24</td>\n",
       "      <td>2757</td>\n",
       "      <td>0.671547</td>\n",
       "      <td>0.328453</td>\n",
       "    </tr>\n",
       "    <tr>\n",
       "      <th>4</th>\n",
       "      <td>156894</td>\n",
       "      <td>2024-05-23</td>\n",
       "      <td>В России рассмотрели спор о возврате USDT, кот...</td>\n",
       "      <td>1</td>\n",
       "      <td>21</td>\n",
       "      <td>5663</td>\n",
       "      <td>0.550594</td>\n",
       "      <td>0.449406</td>\n",
       "    </tr>\n",
       "    <tr>\n",
       "      <th>...</th>\n",
       "      <td>...</td>\n",
       "      <td>...</td>\n",
       "      <td>...</td>\n",
       "      <td>...</td>\n",
       "      <td>...</td>\n",
       "      <td>...</td>\n",
       "      <td>...</td>\n",
       "      <td>...</td>\n",
       "    </tr>\n",
       "    <tr>\n",
       "      <th>12507</th>\n",
       "      <td>283</td>\n",
       "      <td>2017-04-12</td>\n",
       "      <td>money-clash.ru ⛔СКАМ! НЕ ВКЛАДЫВАТЬ.\\n⛔⛔⛔Админ...</td>\n",
       "      <td>0</td>\n",
       "      <td>6</td>\n",
       "      <td>292</td>\n",
       "      <td>0.553791</td>\n",
       "      <td>0.446209</td>\n",
       "    </tr>\n",
       "    <tr>\n",
       "      <th>12508</th>\n",
       "      <td>88</td>\n",
       "      <td>2017-04-05</td>\n",
       "      <td>Каждый хорошо построенный дом начинался с план...</td>\n",
       "      <td>0</td>\n",
       "      <td>25</td>\n",
       "      <td>542</td>\n",
       "      <td>0.503072</td>\n",
       "      <td>0.496928</td>\n",
       "    </tr>\n",
       "    <tr>\n",
       "      <th>12509</th>\n",
       "      <td>87</td>\n",
       "      <td>2017-04-05</td>\n",
       "      <td>Деньги для людей умных составляют средство, дл...</td>\n",
       "      <td>0</td>\n",
       "      <td>24</td>\n",
       "      <td>538</td>\n",
       "      <td>0.443439</td>\n",
       "      <td>0.556561</td>\n",
       "    </tr>\n",
       "    <tr>\n",
       "      <th>12510</th>\n",
       "      <td>80</td>\n",
       "      <td>2017-04-05</td>\n",
       "      <td>Наш большой недостаток в том, что мы слишком б...</td>\n",
       "      <td>0</td>\n",
       "      <td>7</td>\n",
       "      <td>359</td>\n",
       "      <td>0.418640</td>\n",
       "      <td>0.581360</td>\n",
       "    </tr>\n",
       "    <tr>\n",
       "      <th>12511</th>\n",
       "      <td>76</td>\n",
       "      <td>2017-04-05</td>\n",
       "      <td>Я не знаю куда он идет, но хочу такую же целеу...</td>\n",
       "      <td>0</td>\n",
       "      <td>24</td>\n",
       "      <td>502</td>\n",
       "      <td>0.194115</td>\n",
       "      <td>0.805885</td>\n",
       "    </tr>\n",
       "  </tbody>\n",
       "</table>\n",
       "<p>12512 rows × 8 columns</p>\n",
       "</div>"
      ],
      "text/plain": [
       "       Уникальный идентификатор записи Дата и время публикации  \\\n",
       "0                               125701              2022-10-19   \n",
       "1                               156939              2024-05-24   \n",
       "2                               156907              2024-05-23   \n",
       "3                               156897              2024-05-23   \n",
       "4                               156894              2024-05-23   \n",
       "...                                ...                     ...   \n",
       "12507                              283              2017-04-12   \n",
       "12508                               88              2017-04-05   \n",
       "12509                               87              2017-04-05   \n",
       "12510                               80              2017-04-05   \n",
       "12511                               76              2017-04-05   \n",
       "\n",
       "                                               Post text  \\\n",
       "0      За всем происходящем в мире криптовалют следим...   \n",
       "1      Центробанк РФ заявил, что активность россиян н...   \n",
       "2      По мнению аналитика Bloomberg, SEC одобрит ETF...   \n",
       "3      AI сектор у всех на слуху, что купить? \\n\\n• S...   \n",
       "4      В России рассмотрели спор о возврате USDT, кот...   \n",
       "...                                                  ...   \n",
       "12507  money-clash.ru ⛔СКАМ! НЕ ВКЛАДЫВАТЬ.\\n⛔⛔⛔Админ...   \n",
       "12508  Каждый хорошо построенный дом начинался с план...   \n",
       "12509  Деньги для людей умных составляют средство, дл...   \n",
       "12510  Наш большой недостаток в том, что мы слишком б...   \n",
       "12511  Я не знаю куда он идет, но хочу такую же целеу...   \n",
       "\n",
       "       Количество комментариев  Информация о лайках  Количество просмотров  \\\n",
       "0                            1                  518                 118742   \n",
       "1                            4                   12                    677   \n",
       "2                            9                   14                   3835   \n",
       "3                            3                   24                   2757   \n",
       "4                            1                   21                   5663   \n",
       "...                        ...                  ...                    ...   \n",
       "12507                        0                    6                    292   \n",
       "12508                        0                   25                    542   \n",
       "12509                        0                   24                    538   \n",
       "12510                        0                    7                    359   \n",
       "12511                        0                   24                    502   \n",
       "\n",
       "       vk_posotive_rubert  vk_negative_rubert  \n",
       "0                0.527412            0.472588  \n",
       "1                0.479314            0.520686  \n",
       "2                0.000120            0.999880  \n",
       "3                0.671547            0.328453  \n",
       "4                0.550594            0.449406  \n",
       "...                   ...                 ...  \n",
       "12507            0.553791            0.446209  \n",
       "12508            0.503072            0.496928  \n",
       "12509            0.443439            0.556561  \n",
       "12510            0.418640            0.581360  \n",
       "12511            0.194115            0.805885  \n",
       "\n",
       "[12512 rows x 8 columns]"
      ]
     },
     "execution_count": 96,
     "metadata": {},
     "output_type": "execute_result"
    }
   ],
   "source": [
    "vk_data"
   ]
  },
  {
   "cell_type": "code",
   "execution_count": 152,
   "metadata": {},
   "outputs": [],
   "source": [
    "columns_to_save = ['publish_date', 'rbk_postive_cryptobert', 'rbk_negative_cryptobert', 'rbk_neutral_cryptobert']"
   ]
  },
  {
   "cell_type": "code",
   "execution_count": 153,
   "metadata": {},
   "outputs": [],
   "source": [
    "rbc_data.to_csv('rbk_data_from_cryptobert.csv', columns=columns_to_save, index=False)"
   ]
  },
  {
   "cell_type": "markdown",
   "metadata": {},
   "source": [
    "## Готово (получен датасет с криптоберта)"
   ]
  },
  {
   "cell_type": "code",
   "execution_count": null,
   "metadata": {},
   "outputs": [],
   "source": []
  }
 ],
 "metadata": {
  "kernelspec": {
   "display_name": "Python 3",
   "language": "python",
   "name": "python3"
  },
  "language_info": {
   "codemirror_mode": {
    "name": "ipython",
    "version": 3
   },
   "file_extension": ".py",
   "mimetype": "text/x-python",
   "name": "python",
   "nbconvert_exporter": "python",
   "pygments_lexer": "ipython3",
   "version": "3.12.2"
  }
 },
 "nbformat": 4,
 "nbformat_minor": 2
}
