{
 "cells": [
  {
   "cell_type": "code",
   "execution_count": 1,
   "metadata": {},
   "outputs": [],
   "source": [
    "import pandas as pd\n",
    "import torch\n",
    "import numpy as np\n",
    "import matplotlib.pyplot as plt\n",
    "from transformers import AutoTokenizer, AutoModelForSequenceClassification\n",
    "from transformers import BertTokenizerFast\n",
    "from scipy.special import softmax\n",
    "# !pip install googletrans==4.0.0-rc1\n",
    "from googletrans import Translator"
   ]
  },
  {
   "cell_type": "code",
   "execution_count": 3,
   "metadata": {},
   "outputs": [],
   "source": [
    "vk_data = pd.read_excel(\"VK_full.xlsx\")\n",
    "rbc_data = pd.read_excel(\"rbc_full_crypto_articles_to_2024-05-24.xlsx\")"
   ]
  },
  {
   "cell_type": "markdown",
   "metadata": {},
   "source": [
    "# Предобработаем данные"
   ]
  },
  {
   "cell_type": "markdown",
   "metadata": {},
   "source": [
    "### Для начала уберем NaN"
   ]
  },
  {
   "cell_type": "code",
   "execution_count": 4,
   "metadata": {},
   "outputs": [
    {
     "data": {
      "text/plain": [
       "Уникальный идентификатор записи       0\n",
       "Дата и время публикации               0\n",
       "Текст записи                       1886\n",
       "Количество комментариев               0\n",
       "Информация о лайках                   0\n",
       "Количество просмотров                 0\n",
       "dtype: int64"
      ]
     },
     "execution_count": 4,
     "metadata": {},
     "output_type": "execute_result"
    }
   ],
   "source": [
    "vk_data.isnull().sum()\n"
   ]
  },
  {
   "cell_type": "code",
   "execution_count": 5,
   "metadata": {},
   "outputs": [],
   "source": [
    "\n",
    "vk_data = vk_data.dropna(subset=['Текст записи'])\n"
   ]
  },
  {
   "cell_type": "code",
   "execution_count": 6,
   "metadata": {},
   "outputs": [
    {
     "data": {
      "text/plain": [
       "Уникальный идентификатор записи    0\n",
       "Дата и время публикации            0\n",
       "Текст записи                       0\n",
       "Количество комментариев            0\n",
       "Информация о лайках                0\n",
       "Количество просмотров              0\n",
       "dtype: int64"
      ]
     },
     "execution_count": 6,
     "metadata": {},
     "output_type": "execute_result"
    }
   ],
   "source": [
    "vk_data.isnull().sum()"
   ]
  },
  {
   "cell_type": "code",
   "execution_count": 7,
   "metadata": {},
   "outputs": [
    {
     "data": {
      "text/plain": [
       "Unnamed: 0        0\n",
       "0                 2\n",
       "1                 0\n",
       "2                 0\n",
       "3                 0\n",
       "4                 0\n",
       "5             12375\n",
       "6                 0\n",
       "7                 0\n",
       "8                 0\n",
       "9                 0\n",
       "10                0\n",
       "11             2359\n",
       "12            12375\n",
       "13                0\n",
       "14            12375\n",
       "15                0\n",
       "16                0\n",
       "17                0\n",
       "dtype: int64"
      ]
     },
     "execution_count": 7,
     "metadata": {},
     "output_type": "execute_result"
    }
   ],
   "source": [
    "rbc_data.isnull().sum()"
   ]
  },
  {
   "cell_type": "code",
   "execution_count": 8,
   "metadata": {},
   "outputs": [],
   "source": [
    "rbc_data = rbc_data.iloc [: , 2:]\n",
    "rbc_data = rbc_data[1:]\n",
    "rbc_data.reset_index(drop= True , inplace= True)\n",
    "rbc_data = rbc_data.drop(index = 4795)\n",
    "rbc_data.reset_index(drop= True , inplace= True)"
   ]
  },
  {
   "cell_type": "code",
   "execution_count": 9,
   "metadata": {},
   "outputs": [],
   "source": [
    "rbc_data = rbc_data.rename(columns={1: 'id', 2: 'project', 3: 'project_nick', 4: 'type', 5: 'category', 6: 'title',7 : 'body', 8: 'publish_date', 9: 'publish_date_t', 10: 'fronturl', 11: 'picture', 12: 'badge', 13: 'pay_option', 14: 'data', 15: '_score', 16: 'overview', 17: 'text'})"
   ]
  },
  {
   "cell_type": "code",
   "execution_count": 10,
   "metadata": {},
   "outputs": [],
   "source": [
    "rbc_data['publish_date'] = pd.to_datetime(rbc_data['publish_date']).dt.date"
   ]
  },
  {
   "cell_type": "code",
   "execution_count": 11,
   "metadata": {},
   "outputs": [],
   "source": [
    "vk_data['Дата и время публикации'] = pd.to_datetime(vk_data['Дата и время публикации']).dt.date"
   ]
  },
  {
   "cell_type": "code",
   "execution_count": 12,
   "metadata": {},
   "outputs": [
    {
     "data": {
      "text/plain": [
       "id                    0\n",
       "project               0\n",
       "project_nick          0\n",
       "type                  0\n",
       "category          12375\n",
       "title                 0\n",
       "body                  0\n",
       "publish_date          0\n",
       "publish_date_t        0\n",
       "fronturl              0\n",
       "picture            2359\n",
       "badge             12375\n",
       "pay_option            0\n",
       "data              12375\n",
       "_score                0\n",
       "overview              0\n",
       "text                  0\n",
       "dtype: int64"
      ]
     },
     "execution_count": 12,
     "metadata": {},
     "output_type": "execute_result"
    }
   ],
   "source": [
    "rbc_data.isnull().sum()"
   ]
  },
  {
   "cell_type": "markdown",
   "metadata": {},
   "source": [
    "# проверка видеокарты"
   ]
  },
  {
   "cell_type": "code",
   "execution_count": 13,
   "metadata": {},
   "outputs": [
    {
     "name": "stdout",
     "output_type": "stream",
     "text": [
      "There are 1 GPU(s) available.\n",
      "We will use the GPU: NVIDIA GeForce RTX 3070\n"
     ]
    }
   ],
   "source": [
    "# If there's a GPU available...\n",
    "if torch.cuda.is_available():    \n",
    "\n",
    "    # Tell PyTorch to use the GPU.    \n",
    "    device = torch.device(\"cuda\")\n",
    "\n",
    "    print('There are %d GPU(s) available.' % torch.cuda.device_count())\n",
    "\n",
    "    print('We will use the GPU:', torch.cuda.get_device_name(0))\n",
    "\n",
    "# If not...\n",
    "else:\n",
    "    print('No GPU available, using the CPU instead.')\n",
    "    device = torch.device(\"cpu\")"
   ]
  },
  {
   "cell_type": "markdown",
   "metadata": {},
   "source": [
    "##### мне вывело\n",
    "##### \"There are 1 GPU(s) available.\n",
    "##### We will use the GPU: NVIDIA GeForce RTX 3070\"\n",
    "##### Если у вас не подключена видеокарта, то скачайте torch по полной ссылке на сайте https://pytorch.org/"
   ]
  },
  {
   "cell_type": "markdown",
   "metadata": {},
   "source": [
    "# Модель RUBERT и классификация"
   ]
  },
  {
   "cell_type": "markdown",
   "metadata": {},
   "source": [
    "Модель 0 # скипнул"
   ]
  },
  {
   "cell_type": "code",
   "execution_count": 14,
   "metadata": {},
   "outputs": [],
   "source": [
    "# from transformers import AutoTokenizer, AutoModelForSequenceClassification\n",
    "\n",
    "# tokenizer = AutoTokenizer.from_pretrained(\"r1char9/rubert-base-cased-russian-sentiment\")\n",
    "# model = AutoModelForSequenceClassification.from_pretrained(\"r1char9/rubert-base-cased-russian-sentiment\")"
   ]
  },
  {
   "cell_type": "markdown",
   "metadata": {},
   "source": [
    "Модель 1"
   ]
  },
  {
   "cell_type": "markdown",
   "metadata": {},
   "source": [
    "0: POSITIVE\n",
    "1: NEGATIVE"
   ]
  },
  {
   "cell_type": "code",
   "execution_count": 18,
   "metadata": {},
   "outputs": [],
   "source": [
    "tokenizer = BertTokenizerFast.from_pretrained('blanchefort/rubert-base-cased-sentiment-mokoron')\n",
    "model = AutoModelForSequenceClassification.from_pretrained('blanchefort/rubert-base-cased-sentiment-mokoron', return_dict=True)\n"
   ]
  },
  {
   "cell_type": "code",
   "execution_count": 19,
   "metadata": {},
   "outputs": [],
   "source": [
    "def predict(text):\n",
    "    inputs = tokenizer(text, max_length=512, padding=True, truncation=True, return_tensors='pt')\n",
    "    outputs = model(**inputs)\n",
    "    predicted = torch.nn.functional.softmax(outputs.logits, dim=1)\n",
    "    #predicted = torch.argmax(predicted, dim=1).numpy()\n",
    "    return predicted"
   ]
  },
  {
   "cell_type": "markdown",
   "metadata": {},
   "source": [
    "начнем с рбк"
   ]
  },
  {
   "cell_type": "code",
   "execution_count": 100,
   "metadata": {},
   "outputs": [],
   "source": [
    "rbk_postive = []\n",
    "rbk_negative = []\n",
    "for i in range(len(rbc_data['title'])):\n",
    "    tensorr = predict(rbc_data['title'][i])\n",
    "    rbk_postive.append(tensorr[0][0].item()) # в список добавляется предсказанное позитивное значение\n",
    "    rbk_negative.append(tensorr[0][1].item()) # в список добавляется предсказанное негативное значение\n",
    "#Позитивное = 1 - негативное"
   ]
  },
  {
   "cell_type": "code",
   "execution_count": null,
   "metadata": {},
   "outputs": [],
   "source": [
    "rbc_data['rbk_positive'] = rbk_postive\n",
    "rbc_data['rbk_negative'] = rbk_negative"
   ]
  },
  {
   "cell_type": "code",
   "execution_count": null,
   "metadata": {},
   "outputs": [],
   "source": [
    "columns_to_save = ['publish_date', 'rbk_positive', 'rbk_negative']"
   ]
  },
  {
   "cell_type": "code",
   "execution_count": null,
   "metadata": {},
   "outputs": [],
   "source": [
    "rbc_data.to_csv('rbk_RuBeart_Titles_Sentiment.csv', columns=columns_to_save, index=False)"
   ]
  },
  {
   "cell_type": "markdown",
   "metadata": {},
   "source": [
    "теперь вк"
   ]
  },
  {
   "cell_type": "code",
   "execution_count": 28,
   "metadata": {},
   "outputs": [],
   "source": [
    "vk_data.reset_index(drop= True , inplace= True)"
   ]
  },
  {
   "cell_type": "code",
   "execution_count": 32,
   "metadata": {},
   "outputs": [],
   "source": [
    "vk_postive = []\n",
    "vk_negative = []\n",
    "for i in range(len(vk_data['Текст записи'])):\n",
    "    tensorr = predict(vk_data['Текст записи'][i])\n",
    "    vk_postive.append(tensorr[0][0].item())\n",
    "    vk_negative.append(tensorr[0][1].item())"
   ]
  },
  {
   "cell_type": "code",
   "execution_count": 37,
   "metadata": {},
   "outputs": [],
   "source": [
    "vk_data['vk_posotive_rubert'] = vk_postive\n",
    "vk_data['vk_negative_rubert'] = vk_negative"
   ]
  },
  {
   "cell_type": "code",
   "execution_count": 39,
   "metadata": {},
   "outputs": [],
   "source": [
    "columns_to_save_VK = ['Дата и время публикации', 'vk_posotive_rubert', 'vk_negative_rubert']\n",
    "vk_data.to_csv('vk_RuBeart_text_Sentiment.csv', columns=columns_to_save_VK, index=False)"
   ]
  },
  {
   "cell_type": "code",
   "execution_count": null,
   "metadata": {},
   "outputs": [],
   "source": [
    "vk_data = vk_data.rename(columns={'Текст записи': 'Post text'})"
   ]
  },
  {
   "cell_type": "markdown",
   "metadata": {},
   "source": [
    "# Модель CRYPTO_BERT "
   ]
  },
  {
   "cell_type": "markdown",
   "metadata": {},
   "source": [
    "для него нужен английский текст"
   ]
  },
  {
   "cell_type": "markdown",
   "metadata": {},
   "source": [
    "Скачиваю криптоберта"
   ]
  },
  {
   "cell_type": "code",
   "execution_count": 14,
   "metadata": {},
   "outputs": [],
   "source": [
    "# Load model directly \n",
    "from transformers import AutoTokenizer, AutoModelForSequenceClassification\n",
    "\n",
    "tokenizer = AutoTokenizer.from_pretrained(\"ElKulako/cryptobert\")\n",
    "model = AutoModelForSequenceClassification.from_pretrained(\"ElKulako/cryptobert\")"
   ]
  },
  {
   "cell_type": "markdown",
   "metadata": {},
   "source": [
    "Перевод текста"
   ]
  },
  {
   "cell_type": "markdown",
   "metadata": {},
   "source": [
    "текст я перевожу в отдельном файле translator.py здесь я просто сохраняю и получаю csv файл\n"
   ]
  },
  {
   "cell_type": "code",
   "execution_count": 42,
   "metadata": {},
   "outputs": [],
   "source": [
    "columns_to_save_for_VK_translator = ['Post text']"
   ]
  },
  {
   "cell_type": "code",
   "execution_count": 48,
   "metadata": {},
   "outputs": [],
   "source": [
    "vk_data.to_csv('vk_text.csv', columns=columns_to_save_for_VK_translator, index=True)"
   ]
  },
  {
   "cell_type": "code",
   "execution_count": 182,
   "metadata": {},
   "outputs": [],
   "source": [
    "columns_to_save_for_RBK_translator = ['title']"
   ]
  },
  {
   "cell_type": "code",
   "execution_count": 183,
   "metadata": {},
   "outputs": [],
   "source": [
    "rbc_data.to_csv('rbk_text.csv', columns=columns_to_save_for_RBK_translator, index=True)"
   ]
  },
  {
   "cell_type": "markdown",
   "metadata": {},
   "source": [
    "### После перевода"
   ]
  },
  {
   "cell_type": "code",
   "execution_count": 237,
   "metadata": {},
   "outputs": [],
   "source": [
    "# Импортируем CSV файл в DataFrame\n",
    "trans_rbc_titles = pd.read_csv(\"translated_rbc.csv\")"
   ]
  },
  {
   "cell_type": "code",
   "execution_count": 238,
   "metadata": {},
   "outputs": [],
   "source": [
    "trans_vk_text = pd.read_csv(\"translated_vk_text.csv\")"
   ]
  },
  {
   "cell_type": "markdown",
   "metadata": {},
   "source": [
    "Итак вот наш переведенный текст"
   ]
  },
  {
   "cell_type": "code",
   "execution_count": 239,
   "metadata": {},
   "outputs": [],
   "source": [
    "trans_vk_text['Post date'] = vk_data['Дата и время публикации']"
   ]
  },
  {
   "cell_type": "code",
   "execution_count": 240,
   "metadata": {},
   "outputs": [
    {
     "data": {
      "text/html": [
       "<div>\n",
       "<style scoped>\n",
       "    .dataframe tbody tr th:only-of-type {\n",
       "        vertical-align: middle;\n",
       "    }\n",
       "\n",
       "    .dataframe tbody tr th {\n",
       "        vertical-align: top;\n",
       "    }\n",
       "\n",
       "    .dataframe thead th {\n",
       "        text-align: right;\n",
       "    }\n",
       "</style>\n",
       "<table border=\"1\" class=\"dataframe\">\n",
       "  <thead>\n",
       "    <tr style=\"text-align: right;\">\n",
       "      <th></th>\n",
       "      <th>id</th>\n",
       "      <th>Post text</th>\n",
       "      <th>Post date</th>\n",
       "    </tr>\n",
       "  </thead>\n",
       "  <tbody>\n",
       "    <tr>\n",
       "      <th>0</th>\n",
       "      <td>0</td>\n",
       "      <td>We follow everything that happens in the world...</td>\n",
       "      <td>2022-10-19</td>\n",
       "    </tr>\n",
       "    <tr>\n",
       "      <th>1</th>\n",
       "      <td>1</td>\n",
       "      <td>The Central Bank of the Russian Federation sta...</td>\n",
       "      <td>2024-05-24</td>\n",
       "    </tr>\n",
       "    <tr>\n",
       "      <th>2</th>\n",
       "      <td>2</td>\n",
       "      <td>According to a Bloomberg analyst, the SEC will...</td>\n",
       "      <td>2024-05-23</td>\n",
       "    </tr>\n",
       "    <tr>\n",
       "      <th>3</th>\n",
       "      <td>3</td>\n",
       "      <td>The AI ​​sector is on everyone's lips, what to...</td>\n",
       "      <td>2024-05-23</td>\n",
       "    </tr>\n",
       "    <tr>\n",
       "      <th>4</th>\n",
       "      <td>4</td>\n",
       "      <td>In Russia, they considered a dispute about the...</td>\n",
       "      <td>2024-05-23</td>\n",
       "    </tr>\n",
       "    <tr>\n",
       "      <th>...</th>\n",
       "      <td>...</td>\n",
       "      <td>...</td>\n",
       "      <td>...</td>\n",
       "    </tr>\n",
       "    <tr>\n",
       "      <th>12507</th>\n",
       "      <td>12507</td>\n",
       "      <td>money-clash.ru ⛔SCAM! DO NOT INVEST.\\n⛔⛔⛔The a...</td>\n",
       "      <td>2018-01-06</td>\n",
       "    </tr>\n",
       "    <tr>\n",
       "      <th>12508</th>\n",
       "      <td>12508</td>\n",
       "      <td>Every well-built house began with a plan. \\nNa...</td>\n",
       "      <td>2018-01-06</td>\n",
       "    </tr>\n",
       "    <tr>\n",
       "      <th>12509</th>\n",
       "      <td>12509</td>\n",
       "      <td>For smart people, money is a means; for fools,...</td>\n",
       "      <td>2018-01-06</td>\n",
       "    </tr>\n",
       "    <tr>\n",
       "      <th>12510</th>\n",
       "      <td>12510</td>\n",
       "      <td>Our big flaw is that we give up too quickly. T...</td>\n",
       "      <td>2018-01-06</td>\n",
       "    </tr>\n",
       "    <tr>\n",
       "      <th>12511</th>\n",
       "      <td>12511</td>\n",
       "      <td>I don't know where he's going, but I want the ...</td>\n",
       "      <td>2018-01-06</td>\n",
       "    </tr>\n",
       "  </tbody>\n",
       "</table>\n",
       "<p>12512 rows × 3 columns</p>\n",
       "</div>"
      ],
      "text/plain": [
       "          id                                          Post text   Post date\n",
       "0          0  We follow everything that happens in the world...  2022-10-19\n",
       "1          1  The Central Bank of the Russian Federation sta...  2024-05-24\n",
       "2          2  According to a Bloomberg analyst, the SEC will...  2024-05-23\n",
       "3          3  The AI ​​sector is on everyone's lips, what to...  2024-05-23\n",
       "4          4  In Russia, they considered a dispute about the...  2024-05-23\n",
       "...      ...                                                ...         ...\n",
       "12507  12507  money-clash.ru ⛔SCAM! DO NOT INVEST.\\n⛔⛔⛔The a...  2018-01-06\n",
       "12508  12508  Every well-built house began with a plan. \\nNa...  2018-01-06\n",
       "12509  12509  For smart people, money is a means; for fools,...  2018-01-06\n",
       "12510  12510  Our big flaw is that we give up too quickly. T...  2018-01-06\n",
       "12511  12511  I don't know where he's going, but I want the ...  2018-01-06\n",
       "\n",
       "[12512 rows x 3 columns]"
      ]
     },
     "execution_count": 240,
     "metadata": {},
     "output_type": "execute_result"
    }
   ],
   "source": [
    "trans_vk_text"
   ]
  },
  {
   "cell_type": "code",
   "execution_count": 241,
   "metadata": {},
   "outputs": [
    {
     "data": {
      "text/html": [
       "<div>\n",
       "<style scoped>\n",
       "    .dataframe tbody tr th:only-of-type {\n",
       "        vertical-align: middle;\n",
       "    }\n",
       "\n",
       "    .dataframe tbody tr th {\n",
       "        vertical-align: top;\n",
       "    }\n",
       "\n",
       "    .dataframe thead th {\n",
       "        text-align: right;\n",
       "    }\n",
       "</style>\n",
       "<table border=\"1\" class=\"dataframe\">\n",
       "  <thead>\n",
       "    <tr style=\"text-align: right;\">\n",
       "      <th></th>\n",
       "      <th>ind</th>\n",
       "      <th>title</th>\n",
       "    </tr>\n",
       "  </thead>\n",
       "  <tbody>\n",
       "    <tr>\n",
       "      <th>0</th>\n",
       "      <td>0</td>\n",
       "      <td>The most famous cloud mining service confirmed...</td>\n",
       "    </tr>\n",
       "    <tr>\n",
       "      <th>1</th>\n",
       "      <td>1</td>\n",
       "      <td>No time to explain: everything about cryptocur...</td>\n",
       "    </tr>\n",
       "    <tr>\n",
       "      <th>2</th>\n",
       "      <td>2</td>\n",
       "      <td>You might have missed it: exchanges will add S...</td>\n",
       "    </tr>\n",
       "    <tr>\n",
       "      <th>3</th>\n",
       "      <td>3</td>\n",
       "      <td>A major exchange has returned to work after a ...</td>\n",
       "    </tr>\n",
       "    <tr>\n",
       "      <th>4</th>\n",
       "      <td>4</td>\n",
       "      <td>There will be no public ICO round. All details...</td>\n",
       "    </tr>\n",
       "    <tr>\n",
       "      <th>...</th>\n",
       "      <td>...</td>\n",
       "      <td>...</td>\n",
       "    </tr>\n",
       "    <tr>\n",
       "      <th>12370</th>\n",
       "      <td>12370</td>\n",
       "      <td>The US approved the launch of exchange-traded ...</td>\n",
       "    </tr>\n",
       "    <tr>\n",
       "      <th>12371</th>\n",
       "      <td>12371</td>\n",
       "      <td>The main trends of the cryptocurrency market i...</td>\n",
       "    </tr>\n",
       "    <tr>\n",
       "      <th>12372</th>\n",
       "      <td>12372</td>\n",
       "      <td>Experts called the Solana cryptocurrency suita...</td>\n",
       "    </tr>\n",
       "    <tr>\n",
       "      <th>12373</th>\n",
       "      <td>12373</td>\n",
       "      <td>What will happen to the Ethereum rate after ET...</td>\n",
       "    </tr>\n",
       "    <tr>\n",
       "      <th>12374</th>\n",
       "      <td>12374</td>\n",
       "      <td>Cryptocurrency volatility has decreased in ant...</td>\n",
       "    </tr>\n",
       "  </tbody>\n",
       "</table>\n",
       "<p>12375 rows × 2 columns</p>\n",
       "</div>"
      ],
      "text/plain": [
       "         ind                                              title\n",
       "0          0  The most famous cloud mining service confirmed...\n",
       "1          1  No time to explain: everything about cryptocur...\n",
       "2          2  You might have missed it: exchanges will add S...\n",
       "3          3  A major exchange has returned to work after a ...\n",
       "4          4  There will be no public ICO round. All details...\n",
       "...      ...                                                ...\n",
       "12370  12370  The US approved the launch of exchange-traded ...\n",
       "12371  12371  The main trends of the cryptocurrency market i...\n",
       "12372  12372  Experts called the Solana cryptocurrency suita...\n",
       "12373  12373  What will happen to the Ethereum rate after ET...\n",
       "12374  12374  Cryptocurrency volatility has decreased in ant...\n",
       "\n",
       "[12375 rows x 2 columns]"
      ]
     },
     "execution_count": 241,
     "metadata": {},
     "output_type": "execute_result"
    }
   ],
   "source": [
    "trans_rbc_titles\n"
   ]
  },
  {
   "cell_type": "markdown",
   "metadata": {},
   "source": [
    "Обнаружил проблемы с вк датасетом"
   ]
  },
  {
   "cell_type": "code",
   "execution_count": 242,
   "metadata": {},
   "outputs": [],
   "source": [
    "# обнаружил проблему, что некоторые строчки не перевелись, решаю ее удаляя эти строчки кодом ниже"
   ]
  },
  {
   "cell_type": "code",
   "execution_count": 243,
   "metadata": {},
   "outputs": [
    {
     "name": "stderr",
     "output_type": "stream",
     "text": [
      "C:\\Users\\User\\AppData\\Local\\Temp\\ipykernel_31060\\1458871707.py:7: FutureWarning: DataFrame.applymap has been deprecated. Use DataFrame.map instead.\n",
      "  mask = trans_vk_text.applymap(contains_russian).any(axis=1)\n"
     ]
    }
   ],
   "source": [
    "import re\n",
    "def contains_russian(text):\n",
    "    if isinstance(text, str):\n",
    "        return bool(re.search('[а-яА-Я]', text))\n",
    "    return False\n",
    "# Применим функцию ко всем столбцам DataFrame\n",
    "mask = trans_vk_text.applymap(contains_russian).any(axis=1)\n",
    "\n",
    "# Удаляем строки, где есть русские буквы\n",
    "vk_trans_cleaned = trans_vk_text[~mask]\n",
    "vk_trans_cleaned.reset_index(drop= True , inplace= True)"
   ]
  },
  {
   "cell_type": "code",
   "execution_count": 244,
   "metadata": {},
   "outputs": [],
   "source": [
    "# Также обнаружил проблему, что некоторые строчки имеют тип float, решаю ее удаляя эти строчки кодом ниже"
   ]
  },
  {
   "cell_type": "code",
   "execution_count": 245,
   "metadata": {},
   "outputs": [
    {
     "name": "stderr",
     "output_type": "stream",
     "text": [
      "C:\\Users\\User\\AppData\\Local\\Temp\\ipykernel_31060\\967498190.py:4: FutureWarning: DataFrame.applymap has been deprecated. Use DataFrame.map instead.\n",
      "  mask = vk_trans_cleaned.applymap(contains_float).any(axis=1)\n"
     ]
    }
   ],
   "source": [
    "def contains_float(value):\n",
    "    return isinstance(value, float)\n",
    "\n",
    "mask = vk_trans_cleaned.applymap(contains_float).any(axis=1)\n",
    "\n",
    "# Удаляем строки, где есть значения типа float\n",
    "vk_trans_cleaned = vk_trans_cleaned[~mask]\n",
    "vk_trans_cleaned.reset_index(drop= True , inplace= True)"
   ]
  },
  {
   "cell_type": "code",
   "execution_count": 246,
   "metadata": {},
   "outputs": [],
   "source": [
    "# Также приходится удалять совсем длинные посты (>1700 символов), так как с ними не справляется cryptobert "
   ]
  },
  {
   "cell_type": "code",
   "execution_count": 247,
   "metadata": {},
   "outputs": [
    {
     "name": "stdout",
     "output_type": "stream",
     "text": [
      "4901\n",
      "1400\n"
     ]
    }
   ],
   "source": [
    "ct = 0\n",
    "for i in range(len(vk_trans_cleaned['Post text'])):\n",
    "    if len(str(vk_trans_cleaned['Post text'][i])) > ct:\n",
    "        ct = len(str(vk_trans_cleaned['Post text'][i]))\n",
    "        \n",
    "print(ct)        \n",
    "\n",
    "for i in range(len(vk_trans_cleaned['Post text'])):\n",
    "    if len(str(vk_trans_cleaned['Post text'][i])) > 1400:\n",
    "        vk_trans_cleaned = vk_trans_cleaned.drop(i) \n",
    "   \n",
    "len(vk_trans_cleaned['Post text'])\n",
    "vk_trans_cleaned.reset_index(drop= True , inplace= True)\n",
    "\n",
    "ct = 0\n",
    "for i in range(len(vk_trans_cleaned['Post text'])):\n",
    "    if len(str(vk_trans_cleaned['Post text'][i])) > ct:\n",
    "        ct = len(str(vk_trans_cleaned['Post text'][i]))\n",
    "        \n",
    "print(ct)   # ct показатель максимальной длины поста в списке"
   ]
  },
  {
   "cell_type": "code",
   "execution_count": 248,
   "metadata": {},
   "outputs": [
    {
     "name": "stdout",
     "output_type": "stream",
     "text": [
      "Итого было VK постов: 12512\n",
      "Стало VK постов: 9899\n"
     ]
    }
   ],
   "source": [
    "print(\"Итого было VK постов: \" + str(len(trans_vk_text)))\n",
    "print(\"Стало VK постов: \" + str(len(vk_trans_cleaned)))"
   ]
  },
  {
   "cell_type": "markdown",
   "metadata": {},
   "source": [
    "Начнем с РБК\n"
   ]
  },
  {
   "cell_type": "code",
   "execution_count": 249,
   "metadata": {},
   "outputs": [],
   "source": [
    "def predict(text):\n",
    "    inputs = tokenizer(text, max_length=1900, padding=True, truncation=True, return_tensors='pt')\n",
    "    outputs = model(**inputs)\n",
    "    predicted = torch.nn.functional.softmax(outputs.logits, dim=1)\n",
    "    #predicted = torch.argmax(predicted, dim=1).numpy()\n",
    "    return predicted"
   ]
  },
  {
   "cell_type": "code",
   "execution_count": 253,
   "metadata": {},
   "outputs": [],
   "source": [
    "rbk_postive_cryptobert = []\n",
    "rbk_negative_cryptobert = []\n",
    "rbk_neutral_cryptobert = []\n",
    "\n",
    "for i in range(len(trans_rbc_titles)):\n",
    "    tensorr = predict(trans_rbc_titles['title'][i])\n",
    "    rbk_postive_cryptobert.append(tensorr[0][2].item())\n",
    "    rbk_negative_cryptobert.append(tensorr[0][0].item())\n",
    "    rbk_neutral_cryptobert.append(tensorr[0][1].item())"
   ]
  },
  {
   "cell_type": "code",
   "execution_count": 33,
   "metadata": {},
   "outputs": [
    {
     "data": {
      "text/plain": [
       "12375"
      ]
     },
     "execution_count": 33,
     "metadata": {},
     "output_type": "execute_result"
    }
   ],
   "source": [
    "len(rbk_postive_cryptobert)"
   ]
  },
  {
   "cell_type": "code",
   "execution_count": 34,
   "metadata": {},
   "outputs": [],
   "source": [
    "rbc_data['rbk_postive_cryptobert'] = rbk_postive_cryptobert\n",
    "rbc_data['rbk_negative_cryptobert'] = rbk_negative_cryptobert\n",
    "rbc_data['rbk_neutral_cryptobert'] = rbk_neutral_cryptobert "
   ]
  },
  {
   "cell_type": "code",
   "execution_count": null,
   "metadata": {},
   "outputs": [],
   "source": [
    "columns_to_save = ['publish_date', 'rbk_postive_cryptobert', 'rbk_negative_cryptobert', 'rbk_neutral_cryptobert']"
   ]
  },
  {
   "cell_type": "code",
   "execution_count": null,
   "metadata": {},
   "outputs": [],
   "source": [
    "rbc_data.to_csv('rbk_data_from_cryptobert.csv', columns=columns_to_save, index=False)"
   ]
  },
  {
   "cell_type": "markdown",
   "metadata": {},
   "source": [
    "Продолжим с ВК "
   ]
  },
  {
   "cell_type": "code",
   "execution_count": 251,
   "metadata": {},
   "outputs": [],
   "source": [
    "def predict(text):\n",
    "    inputs = tokenizer(text, max_length=1500, padding=True, truncation=True, return_tensors='pt')\n",
    "    outputs = model(**inputs)\n",
    "    predicted = torch.nn.functional.softmax(outputs.logits, dim=1)\n",
    "    #predicted = torch.argmax(predicted, dim=1).numpy()\n",
    "    return predicted"
   ]
  },
  {
   "cell_type": "code",
   "execution_count": 252,
   "metadata": {},
   "outputs": [],
   "source": [
    "vk_postive_cryptobert = []\n",
    "vk_negative_cryptobert = []\n",
    "vk_neutral_cryptobert = []\n",
    "for i in range(len(vk_trans_cleaned)):\n",
    "    tensorr = predict((vk_trans_cleaned['Post text'][i]))\n",
    "    vk_postive_cryptobert.append(tensorr[0][2].item())\n",
    "    vk_negative_cryptobert.append(tensorr[0][0].item())\n",
    "    vk_neutral_cryptobert.append(tensorr[0][1].item())"
   ]
  },
  {
   "cell_type": "code",
   "execution_count": 254,
   "metadata": {},
   "outputs": [
    {
     "data": {
      "text/plain": [
       "9899"
      ]
     },
     "execution_count": 254,
     "metadata": {},
     "output_type": "execute_result"
    }
   ],
   "source": [
    "len(vk_postive_cryptobert)"
   ]
  },
  {
   "cell_type": "code",
   "execution_count": 258,
   "metadata": {},
   "outputs": [],
   "source": [
    "vk_trans_cleaned['vk_postive_cryptobert'] = vk_postive_cryptobert\n",
    "vk_trans_cleaned['vk_negative_cryptobert'] = vk_negative_cryptobert\n",
    "vk_trans_cleaned['vk_neutral_cryptobert'] = vk_neutral_cryptobert \n"
   ]
  },
  {
   "cell_type": "code",
   "execution_count": 259,
   "metadata": {},
   "outputs": [],
   "source": [
    "vk_trans_cleaned = vk_trans_cleaned.rename(columns={'Post date': 'publish_date'})"
   ]
  },
  {
   "cell_type": "code",
   "execution_count": 260,
   "metadata": {},
   "outputs": [
    {
     "data": {
      "text/html": [
       "<div>\n",
       "<style scoped>\n",
       "    .dataframe tbody tr th:only-of-type {\n",
       "        vertical-align: middle;\n",
       "    }\n",
       "\n",
       "    .dataframe tbody tr th {\n",
       "        vertical-align: top;\n",
       "    }\n",
       "\n",
       "    .dataframe thead th {\n",
       "        text-align: right;\n",
       "    }\n",
       "</style>\n",
       "<table border=\"1\" class=\"dataframe\">\n",
       "  <thead>\n",
       "    <tr style=\"text-align: right;\">\n",
       "      <th></th>\n",
       "      <th>id</th>\n",
       "      <th>Post text</th>\n",
       "      <th>publish_date</th>\n",
       "      <th>vk_postive_cryptobert</th>\n",
       "      <th>vk_negative_cryptobert</th>\n",
       "      <th>vk_neutral_cryptobert</th>\n",
       "    </tr>\n",
       "  </thead>\n",
       "  <tbody>\n",
       "    <tr>\n",
       "      <th>0</th>\n",
       "      <td>0</td>\n",
       "      <td>We follow everything that happens in the world...</td>\n",
       "      <td>2022-10-19</td>\n",
       "      <td>0.106720</td>\n",
       "      <td>0.000120</td>\n",
       "      <td>0.893160</td>\n",
       "    </tr>\n",
       "    <tr>\n",
       "      <th>1</th>\n",
       "      <td>1</td>\n",
       "      <td>The Central Bank of the Russian Federation sta...</td>\n",
       "      <td>2024-05-24</td>\n",
       "      <td>0.334370</td>\n",
       "      <td>0.023998</td>\n",
       "      <td>0.641632</td>\n",
       "    </tr>\n",
       "    <tr>\n",
       "      <th>2</th>\n",
       "      <td>3</td>\n",
       "      <td>The AI ​​sector is on everyone's lips, what to...</td>\n",
       "      <td>2024-05-23</td>\n",
       "      <td>0.662217</td>\n",
       "      <td>0.001338</td>\n",
       "      <td>0.336445</td>\n",
       "    </tr>\n",
       "    <tr>\n",
       "      <th>3</th>\n",
       "      <td>4</td>\n",
       "      <td>In Russia, they considered a dispute about the...</td>\n",
       "      <td>2024-05-23</td>\n",
       "      <td>0.265329</td>\n",
       "      <td>0.010629</td>\n",
       "      <td>0.724042</td>\n",
       "    </tr>\n",
       "    <tr>\n",
       "      <th>4</th>\n",
       "      <td>5</td>\n",
       "      <td>The creator of the meme token set himself on f...</td>\n",
       "      <td>2024-05-23</td>\n",
       "      <td>0.202640</td>\n",
       "      <td>0.583108</td>\n",
       "      <td>0.214252</td>\n",
       "    </tr>\n",
       "    <tr>\n",
       "      <th>...</th>\n",
       "      <td>...</td>\n",
       "      <td>...</td>\n",
       "      <td>...</td>\n",
       "      <td>...</td>\n",
       "      <td>...</td>\n",
       "      <td>...</td>\n",
       "    </tr>\n",
       "    <tr>\n",
       "      <th>9894</th>\n",
       "      <td>12507</td>\n",
       "      <td>money-clash.ru ⛔SCAM! DO NOT INVEST.\\n⛔⛔⛔The a...</td>\n",
       "      <td>2018-01-06</td>\n",
       "      <td>0.132776</td>\n",
       "      <td>0.464834</td>\n",
       "      <td>0.402390</td>\n",
       "    </tr>\n",
       "    <tr>\n",
       "      <th>9895</th>\n",
       "      <td>12508</td>\n",
       "      <td>Every well-built house began with a plan. \\nNa...</td>\n",
       "      <td>2018-01-06</td>\n",
       "      <td>0.488020</td>\n",
       "      <td>0.001154</td>\n",
       "      <td>0.510826</td>\n",
       "    </tr>\n",
       "    <tr>\n",
       "      <th>9896</th>\n",
       "      <td>12509</td>\n",
       "      <td>For smart people, money is a means; for fools,...</td>\n",
       "      <td>2018-01-06</td>\n",
       "      <td>0.636082</td>\n",
       "      <td>0.000986</td>\n",
       "      <td>0.362932</td>\n",
       "    </tr>\n",
       "    <tr>\n",
       "      <th>9897</th>\n",
       "      <td>12510</td>\n",
       "      <td>Our big flaw is that we give up too quickly. T...</td>\n",
       "      <td>2018-01-06</td>\n",
       "      <td>0.675413</td>\n",
       "      <td>0.000109</td>\n",
       "      <td>0.324478</td>\n",
       "    </tr>\n",
       "    <tr>\n",
       "      <th>9898</th>\n",
       "      <td>12511</td>\n",
       "      <td>I don't know where he's going, but I want the ...</td>\n",
       "      <td>2018-01-06</td>\n",
       "      <td>0.529944</td>\n",
       "      <td>0.000097</td>\n",
       "      <td>0.469959</td>\n",
       "    </tr>\n",
       "  </tbody>\n",
       "</table>\n",
       "<p>9899 rows × 6 columns</p>\n",
       "</div>"
      ],
      "text/plain": [
       "         id                                          Post text publish_date  \\\n",
       "0         0  We follow everything that happens in the world...   2022-10-19   \n",
       "1         1  The Central Bank of the Russian Federation sta...   2024-05-24   \n",
       "2         3  The AI ​​sector is on everyone's lips, what to...   2024-05-23   \n",
       "3         4  In Russia, they considered a dispute about the...   2024-05-23   \n",
       "4         5  The creator of the meme token set himself on f...   2024-05-23   \n",
       "...     ...                                                ...          ...   \n",
       "9894  12507  money-clash.ru ⛔SCAM! DO NOT INVEST.\\n⛔⛔⛔The a...   2018-01-06   \n",
       "9895  12508  Every well-built house began with a plan. \\nNa...   2018-01-06   \n",
       "9896  12509  For smart people, money is a means; for fools,...   2018-01-06   \n",
       "9897  12510  Our big flaw is that we give up too quickly. T...   2018-01-06   \n",
       "9898  12511  I don't know where he's going, but I want the ...   2018-01-06   \n",
       "\n",
       "      vk_postive_cryptobert  vk_negative_cryptobert  vk_neutral_cryptobert  \n",
       "0                  0.106720                0.000120               0.893160  \n",
       "1                  0.334370                0.023998               0.641632  \n",
       "2                  0.662217                0.001338               0.336445  \n",
       "3                  0.265329                0.010629               0.724042  \n",
       "4                  0.202640                0.583108               0.214252  \n",
       "...                     ...                     ...                    ...  \n",
       "9894               0.132776                0.464834               0.402390  \n",
       "9895               0.488020                0.001154               0.510826  \n",
       "9896               0.636082                0.000986               0.362932  \n",
       "9897               0.675413                0.000109               0.324478  \n",
       "9898               0.529944                0.000097               0.469959  \n",
       "\n",
       "[9899 rows x 6 columns]"
      ]
     },
     "execution_count": 260,
     "metadata": {},
     "output_type": "execute_result"
    }
   ],
   "source": [
    "vk_trans_cleaned"
   ]
  },
  {
   "cell_type": "code",
   "execution_count": null,
   "metadata": {},
   "outputs": [],
   "source": [
    "columns_to_save = ['publish_date', 'vk_postive_cryptobert', 'vk_negative_cryptobert', 'vk_neutral_cryptobert']\n",
    "vk_trans_cleaned.to_csv('vk_CryptoBert_text_Sentiment.csv', columns=columns_to_save, index=False)"
   ]
  },
  {
   "cell_type": "markdown",
   "metadata": {},
   "source": [
    "\"Bearish\" : 0, \"Neutral\": 1, \"Bullish\": 2"
   ]
  },
  {
   "cell_type": "markdown",
   "metadata": {},
   "source": [
    "## Готово (получен датасет с криптоберта)"
   ]
  }
 ],
 "metadata": {
  "kernelspec": {
   "display_name": "Python 3",
   "language": "python",
   "name": "python3"
  },
  "language_info": {
   "codemirror_mode": {
    "name": "ipython",
    "version": 3
   },
   "file_extension": ".py",
   "mimetype": "text/x-python",
   "name": "python",
   "nbconvert_exporter": "python",
   "pygments_lexer": "ipython3",
   "version": "3.12.2"
  }
 },
 "nbformat": 4,
 "nbformat_minor": 2
}
